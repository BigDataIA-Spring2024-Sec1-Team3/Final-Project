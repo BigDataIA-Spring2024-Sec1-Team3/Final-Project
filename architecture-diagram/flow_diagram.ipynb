{
 "cells": [
  {
   "cell_type": "markdown",
   "metadata": {},
   "source": [
    "## IMPORT LIBRARIES"
   ]
  },
  {
   "cell_type": "code",
   "execution_count": 62,
   "metadata": {},
   "outputs": [],
   "source": [
    "from diagrams import Diagram, Cluster, Edge\n",
    "from diagrams.custom import Custom\n",
    "from diagrams.aws.storage import S3\n",
    "from diagrams.programming.framework import FastAPI\n",
    "from diagrams.onprem.database import Mongodb"
   ]
  },
  {
   "cell_type": "code",
   "execution_count": 63,
   "metadata": {},
   "outputs": [],
   "source": [
    "# Adjust these Graphviz attributes to increase diagram size, node spacing, etc.\n",
    "graph_attr = {\n",
    "    \"fontsize\": \"16\"\n",
    "}\n",
    "\n",
    "filename = \"pipeline4\""
   ]
  },
  {
   "cell_type": "markdown",
   "metadata": {},
   "source": [
    "## FLOW DIAGRAM CREATION"
   ]
  },
  {
   "cell_type": "code",
   "execution_count": 64,
   "metadata": {},
   "outputs": [],
   "source": [
    "def create_flow_diagram():\n",
    "    try:\n",
    "        with Diagram(\"\\n\\nUser Interaction and Resume upload\", filename=filename, show=False, direction=\"LR\", graph_attr=graph_attr):\n",
    "            user = Custom(\"User\", \"./input_icons/user.png\")\n",
    "            streamlit = Custom(\"UI\", \"./input_icons/streamlit.png\")\n",
    "            fastapi = FastAPI(\"Fast API\")\n",
    "            s3 = S3(\"Staging\")\n",
    "            mongo = Mongodb(\"Mongo\")\n",
    "            \n",
    "            user >> Edge(label = \"Uploads resume\") >> streamlit >> fastapi >> Edge(label=\"Raw PDF\\n(Resume)\") >> s3\n",
    "            streamlit >> Edge(label=\"\\n\\nTop 10 jobs\") >> user\n",
    "            fastapi >> Edge(label=\"User authentication\") << mongo\n",
    "                \n",
    "      \n",
    "    except Exception as e:\n",
    "        print(\"Exception: \",e)\n",
    "    "
   ]
  },
  {
   "cell_type": "code",
   "execution_count": 65,
   "metadata": {},
   "outputs": [],
   "source": [
    "create_flow_diagram()"
   ]
  }
 ],
 "metadata": {
  "kernelspec": {
   "display_name": "Python 3",
   "language": "python",
   "name": "python3"
  },
  "language_info": {
   "codemirror_mode": {
    "name": "ipython",
    "version": 3
   },
   "file_extension": ".py",
   "mimetype": "text/x-python",
   "name": "python",
   "nbconvert_exporter": "python",
   "pygments_lexer": "ipython3",
   "version": "3.11.5"
  }
 },
 "nbformat": 4,
 "nbformat_minor": 2
}
